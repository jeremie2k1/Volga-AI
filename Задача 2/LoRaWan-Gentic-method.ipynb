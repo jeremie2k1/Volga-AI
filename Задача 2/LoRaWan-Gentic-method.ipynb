{
 "cells": [
  {
   "cell_type": "code",
   "execution_count": 23,
   "id": "aa3888e5-a90b-434d-a298-a1d8c604fae3",
   "metadata": {},
   "outputs": [],
   "source": [
    "import pandas as pd\n",
    "import numpy as np\n",
    "from math import radians, cos, sin, asin, sqrt\n",
    "import math\n",
    "import random \n",
    "\n",
    "import matplotlib.pyplot as plt\n",
    "%matplotlib inline\n",
    "\n",
    "random.seed(1)"
   ]
  },
  {
   "cell_type": "markdown",
   "id": "a0f432a1-7ad7-4073-8cab-63cfa16d2e65",
   "metadata": {},
   "source": [
    "# Read data"
   ]
  },
  {
   "cell_type": "code",
   "execution_count": 24,
   "id": "909cdc9a-b602-4373-b3ea-0314334bf77b",
   "metadata": {},
   "outputs": [
    {
     "data": {
      "text/plain": [
       "(276, 4)"
      ]
     },
     "execution_count": 24,
     "metadata": {},
     "output_type": "execute_result"
    }
   ],
   "source": [
    "df_houses = pd.read_csv('task.csv', sep=';')\n",
    "df_houses.shape"
   ]
  },
  {
   "cell_type": "code",
   "execution_count": 25,
   "id": "05300f4d-4797-4deb-bda0-99c3e640bc99",
   "metadata": {},
   "outputs": [
    {
     "data": {
      "text/plain": [
       "(276,)"
      ]
     },
     "execution_count": 25,
     "metadata": {},
     "output_type": "execute_result"
    }
   ],
   "source": [
    "df_houses['house_uuid'].unique().shape"
   ]
  },
  {
   "cell_type": "code",
   "execution_count": 26,
   "id": "fd4307ae-120b-448c-a0ba-518bf8fa402d",
   "metadata": {},
   "outputs": [
    {
     "data": {
      "text/html": [
       "<div>\n",
       "<style scoped>\n",
       "    .dataframe tbody tr th:only-of-type {\n",
       "        vertical-align: middle;\n",
       "    }\n",
       "\n",
       "    .dataframe tbody tr th {\n",
       "        vertical-align: top;\n",
       "    }\n",
       "\n",
       "    .dataframe thead th {\n",
       "        text-align: right;\n",
       "    }\n",
       "</style>\n",
       "<table border=\"1\" class=\"dataframe\">\n",
       "  <thead>\n",
       "    <tr style=\"text-align: right;\">\n",
       "      <th></th>\n",
       "      <th>house_uuid</th>\n",
       "      <th>latitude</th>\n",
       "      <th>longitude</th>\n",
       "      <th>end_devices_count</th>\n",
       "    </tr>\n",
       "  </thead>\n",
       "  <tbody>\n",
       "    <tr>\n",
       "      <th>0</th>\n",
       "      <td>17068474-0f7d-4ec0-bff4-915b5f687b93</td>\n",
       "      <td>54.227290</td>\n",
       "      <td>49.613378</td>\n",
       "      <td>70</td>\n",
       "    </tr>\n",
       "    <tr>\n",
       "      <th>1</th>\n",
       "      <td>25842da6-50b9-436e-8867-6b6a3708ab2c</td>\n",
       "      <td>54.232353</td>\n",
       "      <td>49.594164</td>\n",
       "      <td>72</td>\n",
       "    </tr>\n",
       "    <tr>\n",
       "      <th>2</th>\n",
       "      <td>0fcd97c2-272a-4d7c-82e7-40974e419e42</td>\n",
       "      <td>54.236600</td>\n",
       "      <td>49.564500</td>\n",
       "      <td>70</td>\n",
       "    </tr>\n",
       "    <tr>\n",
       "      <th>3</th>\n",
       "      <td>3121aa08-f281-4c69-b07a-be91a3aaa77e</td>\n",
       "      <td>54.227810</td>\n",
       "      <td>49.557370</td>\n",
       "      <td>50</td>\n",
       "    </tr>\n",
       "    <tr>\n",
       "      <th>4</th>\n",
       "      <td>d1eb8d61-bb3d-4f95-834c-7d12057938b7</td>\n",
       "      <td>54.231785</td>\n",
       "      <td>49.556874</td>\n",
       "      <td>120</td>\n",
       "    </tr>\n",
       "  </tbody>\n",
       "</table>\n",
       "</div>"
      ],
      "text/plain": [
       "                             house_uuid   latitude  longitude  \\\n",
       "0  17068474-0f7d-4ec0-bff4-915b5f687b93  54.227290  49.613378   \n",
       "1  25842da6-50b9-436e-8867-6b6a3708ab2c  54.232353  49.594164   \n",
       "2  0fcd97c2-272a-4d7c-82e7-40974e419e42  54.236600  49.564500   \n",
       "3  3121aa08-f281-4c69-b07a-be91a3aaa77e  54.227810  49.557370   \n",
       "4  d1eb8d61-bb3d-4f95-834c-7d12057938b7  54.231785  49.556874   \n",
       "\n",
       "   end_devices_count  \n",
       "0                 70  \n",
       "1                 72  \n",
       "2                 70  \n",
       "3                 50  \n",
       "4                120  "
      ]
     },
     "execution_count": 26,
     "metadata": {},
     "output_type": "execute_result"
    }
   ],
   "source": [
    "df_houses.head()"
   ]
  },
  {
   "cell_type": "code",
   "execution_count": 27,
   "id": "55257402-5602-4f25-a295-199f1feb06c3",
   "metadata": {},
   "outputs": [
    {
     "data": {
      "text/plain": [
       "<matplotlib.collections.PathCollection at 0x7ffb68b77640>"
      ]
     },
     "execution_count": 27,
     "metadata": {},
     "output_type": "execute_result"
    },
    {
     "data": {
      "image/png": "[encoded data removed]",
      "text/plain": [
       "<Figure size 640x480 with 1 Axes>"
      ]
     },
     "metadata": {},
     "output_type": "display_data"
    }
   ],
   "source": [
    "plt.scatter(df_houses['longitude'], df_houses['latitude'])"
   ]
  },
  {
   "cell_type": "code",
   "execution_count": 28,
   "id": "a9a4588a-ae50-40d2-843a-c53a43751589",
   "metadata": {},
   "outputs": [
    {
     "data": {
      "text/html": [
       "<div>\n",
       "<style scoped>\n",
       "    .dataframe tbody tr th:only-of-type {\n",
       "        vertical-align: middle;\n",
       "    }\n",
       "\n",
       "    .dataframe tbody tr th {\n",
       "        vertical-align: top;\n",
       "    }\n",
       "\n",
       "    .dataframe thead th {\n",
       "        text-align: right;\n",
       "    }\n",
       "</style>\n",
       "<table border=\"1\" class=\"dataframe\">\n",
       "  <thead>\n",
       "    <tr style=\"text-align: right;\">\n",
       "      <th></th>\n",
       "      <th>house_uuid</th>\n",
       "      <th>type</th>\n",
       "    </tr>\n",
       "  </thead>\n",
       "  <tbody>\n",
       "    <tr>\n",
       "      <th>0</th>\n",
       "      <td>0f3d5290-a402-4c94-ac80-a838240e4b2b</td>\n",
       "      <td>1</td>\n",
       "    </tr>\n",
       "    <tr>\n",
       "      <th>1</th>\n",
       "      <td>0f8ce8c3-c767-455d-873c-f0eb1ae6a35d</td>\n",
       "      <td>1</td>\n",
       "    </tr>\n",
       "    <tr>\n",
       "      <th>2</th>\n",
       "      <td>0fcd97c2-272a-4d7c-82e7-40974e419e42</td>\n",
       "      <td>1</td>\n",
       "    </tr>\n",
       "    <tr>\n",
       "      <th>3</th>\n",
       "      <td>11c22053-eafc-4b6d-af90-7be632382aed</td>\n",
       "      <td>1</td>\n",
       "    </tr>\n",
       "    <tr>\n",
       "      <th>4</th>\n",
       "      <td>12ceac6d-5342-4a65-9fc3-3163a7127af1</td>\n",
       "      <td>1</td>\n",
       "    </tr>\n",
       "  </tbody>\n",
       "</table>\n",
       "</div>"
      ],
      "text/plain": [
       "                             house_uuid  type\n",
       "0  0f3d5290-a402-4c94-ac80-a838240e4b2b     1\n",
       "1  0f8ce8c3-c767-455d-873c-f0eb1ae6a35d     1\n",
       "2  0fcd97c2-272a-4d7c-82e7-40974e419e42     1\n",
       "3  11c22053-eafc-4b6d-af90-7be632382aed     1\n",
       "4  12ceac6d-5342-4a65-9fc3-3163a7127af1     1"
      ]
     },
     "execution_count": 28,
     "metadata": {},
     "output_type": "execute_result"
    }
   ],
   "source": [
    "df_base_station = pd.read_csv('result-example.csv', sep=';')\n",
    "df_base_station.head()"
   ]
  },
  {
   "cell_type": "markdown",
   "id": "efa82404-c97c-4a8f-8bdc-dbce5023b5a1",
   "metadata": {},
   "source": [
    "## Constant parameters"
   ]
  },
  {
   "cell_type": "code",
   "execution_count": 29,
   "id": "b00026a4-19f5-4044-8142-a180cc92f1fd",
   "metadata": {},
   "outputs": [],
   "source": [
    "max_stations = 1000\n",
    "min_coverage = 0.91\n",
    "\n",
    "station_costs = {1: 500, 2: 1800}\n",
    "station_ranges = {1: 1, 2: 2}\n",
    "station_capacity = {1: 400, 2: 2000}\n",
    "\n",
    "len_houses = len(df_houses)\n",
    "houses_fixed = df_houses.to_numpy()\n",
    "total_devices = sum(h[3] for h in houses_fixed)"
   ]
  },
  {
   "cell_type": "code",
   "execution_count": 30,
   "id": "7f0829bc-d7db-47d8-ad0d-e376910e18f1",
   "metadata": {},
   "outputs": [
    {
     "data": {
      "text/plain": [
       "1800"
      ]
     },
     "execution_count": 30,
     "metadata": {},
     "output_type": "execute_result"
    }
   ],
   "source": [
    "station_costs[int('2')]"
   ]
  },
  {
   "cell_type": "markdown",
   "id": "6efed29e-d6a0-4994-9246-5a1dfda2fe2d",
   "metadata": {},
   "source": [
    "## Distance function"
   ]
  },
  {
   "cell_type": "code",
   "execution_count": 31,
   "id": "c44c8877-0ccc-4de1-bb06-3eebfe3e056c",
   "metadata": {},
   "outputs": [],
   "source": [
    "def haversine_distance(lat1, lon1, lat2, lon2):\n",
    "    \"\"\"\n",
    "    Calculate the great circle distance in kilometers between two points \n",
    "    on the earth (specified in decimal degrees)\n",
    "    \"\"\"\n",
    "    R = 6371 # Radius of earth in kilometers. \n",
    "    # convert decimal degrees to radians \n",
    "    dLat = radians(lat2 - lat1)\n",
    "    dLon = radians(lon2 - lon1)\n",
    "    # haversine formula \n",
    "    a = math.sin(dLat/2) * math.sin(dLat/2) + math.cos(math.radians(lat1)) \\\n",
    "       * cos(math.radians(lat2)) * math.sin(dLon/2) * math.sin(dLon/2)\n",
    "    c = 2 * math.atan2(math.sqrt(a), math.sqrt(1-a))\n",
    "    d = R * c\n",
    "    return d"
   ]
  },
  {
   "cell_type": "code",
   "execution_count": 32,
   "id": "88fe3e0d-94bb-4157-91cd-35a867978df4",
   "metadata": {},
   "outputs": [],
   "source": [
    "def euclid_distance(lat1, lon1, lat2, lon2):\n",
    "    return np.sqrt((lat2 - lat1)**2 + (lon2 - lon1)**2)"
   ]
  },
  {
   "cell_type": "markdown",
   "id": "bc5f24b5-2515-47cf-9b9d-cc997d2fa1dd",
   "metadata": {},
   "source": [
    "## Genetic method"
   ]
  },
  {
   "cell_type": "code",
   "execution_count": 33,
   "id": "e8e3319e-8622-4c40-89ff-68021a741f33",
   "metadata": {},
   "outputs": [],
   "source": [
    "def fitness(solution):\n",
    "    # print(solution)\n",
    "    houses = houses_fixed.copy()\n",
    "    houses = np.hstack((houses, np.zeros((houses.shape[0], 1), dtype=object)))\n",
    "\n",
    "    coverage = 0\n",
    "    total_cost = 0\n",
    "    device_counts_covered = {house[0]: 0 for house in houses}  # Track devices covered per house\n",
    "\n",
    "    # Calculate coverage and cost\n",
    "    for station in solution:\n",
    "        # print(station)\n",
    "        house_uuid, station_type = station\n",
    "        house = next(h for h in houses if h[0] == house_uuid)\n",
    "        total_cost += station_costs[int(station_type)]\n",
    "        covered_devices = 0  # Track how many devices this station can cover\n",
    "\n",
    "        for h in houses:\n",
    "            distance = haversine_distance(h[1], h[2], house[1], house[2])\n",
    "            if distance <= station_ranges[int(station_type)]:\n",
    "                # Ensure we do not exceed station capacity\n",
    "                if covered_devices + h[3] <= station_capacity[int(station_type)]:\n",
    "                    covered_devices += h[3]\n",
    "                    device_counts_covered[h[0]] += h[3]\n",
    "                    h[3] = 0\n",
    "                    h[4] = 1\n",
    "                else:\n",
    "                    # If adding this house exceeds capacity, add as many devices as possible up to the limit\n",
    "                    available_capacity = station_capacity[int(station_type)] - covered_devices\n",
    "                    device_counts_covered[h[0]] += min(available_capacity, h[3])\n",
    "                    covered_devices = station_capacity[int(station_type)]\n",
    "                    h[3] -= min(available_capacity, h[3])\n",
    "                    break  # This station is now at capacity, move to the next station\n",
    "\n",
    "    # Calculate the percentage of devices covered\n",
    "    devices_covered = sum(device_counts_covered.values())\n",
    "    coverage_ratio = devices_covered / total_devices\n",
    "    houses_coverage_ratio = np.sum(houses[:, 4]) / len_houses\n",
    "    # print('houses_coverage_ratio: ', houses_coverage_ratio)\n",
    "    # Adjust fitness function to penalize solutions not meeting minimum coverage or exceeding station capacities\n",
    "    if coverage_ratio >= min_coverage:\n",
    "        return coverage_ratio / total_cost  # Higher is better, considering both coverage and cost\n",
    "    else:\n",
    "        return 1e-15  # Penalize solutions that do not meet the minimum coverage requirement"
   ]
  },
  {
   "cell_type": "code",
   "execution_count": 34,
   "id": "d116c01b-fe7a-45e7-979a-ec5f98cbefe7",
   "metadata": {},
   "outputs": [],
   "source": [
    "def select_parents(population, fitnesses):\n",
    "    # Select parents for the next generation\n",
    "    return random.choices(population, weights=fitnesses, k=2)"
   ]
  },
  {
   "cell_type": "code",
   "execution_count": 35,
   "id": "aa7b34cd-9a8d-40d3-a7ee-4411aea0a7a6",
   "metadata": {},
   "outputs": [],
   "source": [
    "def crossover(parent1, parent2):\n",
    "    # Generate a new solution by crossing over two parents\n",
    "    # Simplified: take half from each\n",
    "    # print('parent1 type: ', type(parent1))\n",
    "    if len(parent1) <= 2 and len(parent2) <= 2:\n",
    "         child = np.concatenate((parent1, parent2), axis=0)\n",
    "    else:\n",
    "        half = len(parent1) // 2\n",
    "        child = np.concatenate((parent1[:half], parent2[half:]), axis=0)\n",
    "    # print(child)\n",
    "    return child"
   ]
  },
  {
   "cell_type": "code",
   "execution_count": 36,
   "id": "9904e625-2ae8-4a4c-be3e-12788136e444",
   "metadata": {},
   "outputs": [],
   "source": [
    "def mutate(solution):\n",
    "    # Randomly add, remove, or change a station\n",
    "    mutation_type = random.choice(['add', 'remove', 'change'])\n",
    "    if mutation_type == 'add' and len(solution) < max_stations:\n",
    "        # Add a new station on a random house with a random type\n",
    "        house_uuid = random.choice(houses_fixed)[0]\n",
    "        station_type = random.choice([1, 2])\n",
    "        solution = np.append(solution, [np.array([house_uuid, station_type])], axis=0)\n",
    "    elif mutation_type == 'remove' and len(solution) > 0:\n",
    "        # Remove a random station\n",
    "        solution = np.delete(solution, (random.randint(0, len(solution) - 1)), axis=0)\n",
    "    elif mutation_type == 'change' and len(solution) > 0:\n",
    "        # Change the type of a random station)\n",
    "        index = random.randint(0, len(solution) - 1)\n",
    "        current_type = solution[index][1]\n",
    "        solution[index] = (solution[index][0], 1 if current_type == 2 else 2)\n",
    "    return solution"
   ]
  },
  {
   "cell_type": "code",
   "execution_count": 37,
   "id": "8546905a-81b5-48e9-a5dd-5298d4c8083c",
   "metadata": {},
   "outputs": [
    {
     "data": {
      "text/plain": [
       "(50, 2)"
      ]
     },
     "execution_count": 37,
     "metadata": {},
     "output_type": "execute_result"
    }
   ],
   "source": [
    "population = []\n",
    "for i in range(10):\n",
    "    solution = df_houses.sample(50)['house_uuid'].values  # Initialize with random solutions\n",
    "    random_choices = np.random.choice([1, 2], size=solution.shape)\n",
    "    \n",
    "    population.append(np.array(list(zip(solution, random_choices))))\n",
    "\n",
    "population[0].shape"
   ]
  },
  {
   "cell_type": "code",
   "execution_count": 38,
   "id": "e1c55d97-d994-4d82-b4f6-c589acec6669",
   "metadata": {},
   "outputs": [],
   "source": [
    "# df_houses.sample(50)['house_uuid'].values"
   ]
  },
  {
   "cell_type": "code",
   "execution_count": 39,
   "id": "7f5c645f-b48e-4f07-b11b-9f4250b638d6",
   "metadata": {},
   "outputs": [],
   "source": [
    "def remove_dups(population):\n",
    "    # print(population)\n",
    "    # Convert array to list of tuples for hashability\n",
    "    data_tuples = list(map(tuple, population))\n",
    "    \n",
    "    seen = set()\n",
    "    result = []\n",
    "    \n",
    "    for item in data_tuples:\n",
    "        if item[0] not in seen:\n",
    "            seen.add(item[0])\n",
    "            result.append(item)\n",
    "    \n",
    "    # Convert the result back to a numpy array\n",
    "    result_array = np.array(result)\n",
    "    \n",
    "    return result_array"
   ]
  },
  {
   "cell_type": "code",
   "execution_count": 40,
   "id": "c57ab521-e39c-45b3-bb18-ad8c6cee7aed",
   "metadata": {},
   "outputs": [],
   "source": [
    "# Main genetic algorithm loop\n",
    "# This is a placeholder; in practice, you would iterate, creating new generations\n",
    "for generation in range(1000):  # Number of generations\n",
    "    fitnesses = [fitness(individual) for individual in population]\n",
    "    new_population = []\n",
    "    for _ in range(len(population)):\n",
    "        parent1, parent2 = select_parents(population, fitnesses)\n",
    "        child = crossover(parent1, parent2)\n",
    "        child = mutate(child)\n",
    "        new_population.append(child)\n",
    "    population = [remove_dups(p) for p in new_population]\n",
    "    # print(population)"
   ]
  },
  {
   "cell_type": "code",
   "execution_count": 41,
   "id": "58c4b3cc-3ca3-49a6-9280-95ffc090af8e",
   "metadata": {},
   "outputs": [
    {
     "name": "stdout",
     "output_type": "stream",
     "text": [
      "Best Solution: [['bf314838-4a6b-47cd-8e24-8d4c155a8a98' '2']\n",
      " ['0b8716e2-39d2-4444-bfd5-2b3387948cc2' '2']\n",
      " ['272a5603-612d-4d99-8793-f559b8419299' '2']\n",
      " ['b0494382-df75-4a11-96dc-34f2e8ea2f9a' '2']\n",
      " ['d15f48b4-0172-419c-84a3-a1177e3a98a2' '2']\n",
      " ['1b652c24-40f4-4e1b-ac10-ea46bec8686f' '2']\n",
      " ['3a68a6e9-78e2-43c7-b8ca-b7a1ac71b793' '2']\n",
      " ['94187a36-8c14-4d70-9e91-d14f24ecbb77' '2']\n",
      " ['e719e4cf-0fec-43ff-90bb-d0ecef95ac80' '2']\n",
      " ['5e2c28ed-2410-4b23-a2ae-399215921243' '2']\n",
      " ['e43723d1-c76e-4b5c-9075-1c8aeabc97f8' '1']\n",
      " ['3f4522f1-1222-4e43-b067-b2e67b0860c9' '1']\n",
      " ['b7509e1d-275b-4338-ba80-fe695e7d3a52' '2']\n",
      " ['bcfe6ee6-e046-42f0-8d3e-00694f551f13' '1']\n",
      " ['fd664f2f-3bf0-4ac1-955b-c238f8e86895' '1']\n",
      " ['c9ee4860-b525-4fbb-81fb-fd1d8e0374c4' '1']]\n",
      "Fitness: 4.137134545846055e-05\n"
     ]
    }
   ],
   "source": [
    "# Calculate fitness for each individual in the final population\n",
    "fitnesses = [fitness(individual) for individual in population]\n",
    "# print(fitnesses)\n",
    "# Find the index of the solution with the highest fitness\n",
    "best_index = np.argmax(fitnesses)  # np.argmax returns the index of the max value\n",
    "\n",
    "# Select the best solution\n",
    "best_solution = population[best_index]\n",
    "best_solution_fitness = fitnesses[best_index]\n",
    "\n",
    "print(f\"Best Solution: {best_solution}\")\n",
    "print(f\"Fitness: {best_solution_fitness}\")"
   ]
  },
  {
   "cell_type": "code",
   "execution_count": 42,
   "id": "a272a16b-57b9-46d5-9071-c13f439dc560",
   "metadata": {},
   "outputs": [
    {
     "data": {
      "text/plain": [
       "[3.434874879325499e-05,\n",
       " 4.137134545846055e-05,\n",
       " 3.1772236555826895e-05,\n",
       " 1e-15,\n",
       " 3.653757766468265e-05,\n",
       " 3.653757766468265e-05,\n",
       " 3.650360354145505e-05,\n",
       " 3.3705568038364125e-05,\n",
       " 3.5826729850194663e-05,\n",
       " 3.53021085808179e-05]"
      ]
     },
     "execution_count": 42,
     "metadata": {},
     "output_type": "execute_result"
    }
   ],
   "source": [
    "fitnesses"
   ]
  },
  {
   "cell_type": "code",
   "execution_count": 43,
   "id": "7b838bee-2574-4941-836a-817c8a841496",
   "metadata": {},
   "outputs": [
    {
     "data": {
      "text/plain": [
       "10"
      ]
     },
     "execution_count": 43,
     "metadata": {},
     "output_type": "execute_result"
    }
   ],
   "source": [
    "len(fitnesses)"
   ]
  },
  {
   "cell_type": "markdown",
   "id": "1793d915-b981-4321-ac06-e94cb1a7b4af",
   "metadata": {},
   "source": [
    "## Save solution"
   ]
  },
  {
   "cell_type": "code",
   "execution_count": 44,
   "id": "375380ec-24dd-4e21-b5a7-9fb34f312082",
   "metadata": {},
   "outputs": [
    {
     "name": "stdout",
     "output_type": "stream",
     "text": [
      "Solution saved to best_solution_1.csv\n"
     ]
    }
   ],
   "source": [
    "# Output the solution in the required CSV format\n",
    "import csv\n",
    "\n",
    "output_filename = \"best_solution_1.csv\"\n",
    "\n",
    "with open(output_filename, mode='w', newline='') as file:\n",
    "    writer = csv.writer(file, delimiter=';')\n",
    "    writer.writerow(['house_uuid', 'type'])  # Write the header\n",
    "\n",
    "    for station in best_solution:\n",
    "        writer.writerow(station)  # Write each station data\n",
    "\n",
    "print(f\"Solution saved to {output_filename}\")\n"
   ]
  },
  {
   "cell_type": "code",
   "execution_count": null,
   "id": "078c8ad6-b290-46b0-a773-8adf7c86e3d1",
   "metadata": {},
   "outputs": [],
   "source": []
  },
  {
   "cell_type": "code",
   "execution_count": null,
   "id": "6c17233e-7841-4980-8d4d-fd38bf68eb9f",
   "metadata": {},
   "outputs": [],
   "source": []
  }
 ],
 "metadata": {
  "kernelspec": {
   "display_name": "handson",
   "language": "python",
   "name": "handson"
  },
  "language_info": {
   "codemirror_mode": {
    "name": "ipython",
    "version": 3
   },
   "file_extension": ".py",
   "mimetype": "text/x-python",
   "name": "python",
   "nbconvert_exporter": "python",
   "pygments_lexer": "ipython3",
   "version": "3.9.18"
  }
 },
 "nbformat": 4,
 "nbformat_minor": 5
}
